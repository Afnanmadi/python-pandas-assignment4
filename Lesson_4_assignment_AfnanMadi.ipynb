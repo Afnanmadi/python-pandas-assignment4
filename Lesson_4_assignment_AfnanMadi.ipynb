{
  "nbformat": 4,
  "nbformat_minor": 0,
  "metadata": {
    "colab": {
      "provenance": []
    },
    "kernelspec": {
      "name": "python3",
      "display_name": "Python 3"
    },
    "language_info": {
      "name": "python"
    }
  },
  "cells": [
    {
      "cell_type": "markdown",
      "source": [
        "**Task 1: Create a DataFrame**"
      ],
      "metadata": {
        "id": "1vNHdv9TTBsR"
      }
    },
    {
      "cell_type": "code",
      "execution_count": 1,
      "metadata": {
        "colab": {
          "base_uri": "https://localhost:8080/",
          "height": 0
        },
        "id": "LlgBKCW2SJrY",
        "outputId": "270b49f9-a319-4f19-c2a3-7c6b5add3e28"
      },
      "outputs": [
        {
          "output_type": "stream",
          "name": "stdout",
          "text": [
            "      Name  Age           City\n",
            "0    Alice   25       New York\n",
            "1      Bob   30  San Francisco\n",
            "2  Charlie   35    Los Angeles\n",
            "3    David   28        Chicago\n"
          ]
        }
      ],
      "source": [
        "import pandas as pd\n",
        "import numpy as np\n",
        "from functools import reduce\n",
        "\n",
        "# Task 1\n",
        "data = {'Name': ['Alice', 'Bob', 'Charlie', 'David'],\n",
        "        'Age': [25, 30, 35, 28],\n",
        "        'City': ['New York', 'San Francisco', 'Los Angeles', 'Chicago']}\n",
        "df = pd.DataFrame(data)\n",
        "print(df)\n"
      ]
    },
    {
      "cell_type": "markdown",
      "source": [
        "**Task 2: Row and Column Manipulation**"
      ],
      "metadata": {
        "id": "-YnTeaFKTHER"
      }
    },
    {
      "cell_type": "code",
      "source": [
        "df_dropped = df.drop(columns=['City'])\n",
        "print(df_dropped)\n"
      ],
      "metadata": {
        "colab": {
          "base_uri": "https://localhost:8080/",
          "height": 0
        },
        "id": "hiJH5cmfSoig",
        "outputId": "7394194e-882f-4ab8-e65e-18b723be6ec0"
      },
      "execution_count": 2,
      "outputs": [
        {
          "output_type": "stream",
          "name": "stdout",
          "text": [
            "      Name  Age\n",
            "0    Alice   25\n",
            "1      Bob   30\n",
            "2  Charlie   35\n",
            "3    David   28\n"
          ]
        }
      ]
    },
    {
      "cell_type": "markdown",
      "source": [
        "** Task 3: Handling Null Values**"
      ],
      "metadata": {
        "id": "MrAfUQD_Tqkz"
      }
    },
    {
      "cell_type": "code",
      "source": [
        "df_nulls = pd.DataFrame({\n",
        "    'Name': ['Eve', None, 'Frank'],\n",
        "    'Age': [22, None, 29],\n",
        "    'City': [None, 'Toronto', 'Vancouver']\n",
        "})\n",
        "\n",
        "# Fill nulls: strings with 'Unknown', numbers with 0\n",
        "df_nulls_filled = df_nulls.fillna({'Name': 'Unknown', 'Age': 0, 'City': 'Unknown'})\n",
        "print(df_nulls_filled)\n"
      ],
      "metadata": {
        "colab": {
          "base_uri": "https://localhost:8080/",
          "height": 0
        },
        "id": "UW2lfVm3Sq8-",
        "outputId": "2f67043e-7b55-4c55-e974-c263055521fd"
      },
      "execution_count": 3,
      "outputs": [
        {
          "output_type": "stream",
          "name": "stdout",
          "text": [
            "      Name   Age       City\n",
            "0      Eve  22.0    Unknown\n",
            "1  Unknown   0.0    Toronto\n",
            "2    Frank  29.0  Vancouver\n"
          ]
        }
      ]
    },
    {
      "cell_type": "markdown",
      "source": [
        "** Task 4: GroupBy and Describe**"
      ],
      "metadata": {
        "id": "1EySx0ocTtwa"
      }
    },
    {
      "cell_type": "code",
      "source": [
        "df_group = pd.DataFrame({\n",
        "    'Category': ['A', 'B', 'A', 'B', 'A', 'C'],\n",
        "    'Value': [10, 20, 15, 25, 30, 35]\n",
        "})\n",
        "grouped_stats = df_group.groupby('Category')['Value'].describe()\n",
        "print(grouped_stats)\n"
      ],
      "metadata": {
        "colab": {
          "base_uri": "https://localhost:8080/",
          "height": 0
        },
        "id": "saAPkLRpSuLQ",
        "outputId": "ddac9442-ed7b-4912-9233-13539c38d003"
      },
      "execution_count": 4,
      "outputs": [
        {
          "output_type": "stream",
          "name": "stdout",
          "text": [
            "          count       mean        std   min    25%   50%    75%   max\n",
            "Category                                                             \n",
            "A           3.0  18.333333  10.408330  10.0  12.50  15.0  22.50  30.0\n",
            "B           2.0  22.500000   3.535534  20.0  21.25  22.5  23.75  25.0\n",
            "C           1.0  35.000000        NaN  35.0  35.00  35.0  35.00  35.0\n"
          ]
        }
      ]
    },
    {
      "cell_type": "markdown",
      "source": [
        "** Task 5: Concatenation and Merging**"
      ],
      "metadata": {
        "id": "6LS3t7CjT6fw"
      }
    },
    {
      "cell_type": "code",
      "source": [
        "df1 = pd.DataFrame({'A': [1, 2], 'B': [3, 4]})\n",
        "df2 = pd.DataFrame({'A': [5, 6], 'B': [7, 8]})\n",
        "df3 = pd.DataFrame({'C': [9, 10, 11, 12], 'D': [13, 14, 15, 16]})\n",
        "\n",
        "# Concatenate vertically\n",
        "df_concat = pd.concat([df1, df2], ignore_index=True)\n",
        "\n",
        "# Merge horizontally\n",
        "df_merged = pd.concat([df_concat, df3], axis=1)\n",
        "print(df_merged)\n"
      ],
      "metadata": {
        "colab": {
          "base_uri": "https://localhost:8080/",
          "height": 0
        },
        "id": "VJ6qDmUoT9gk",
        "outputId": "431091fc-6ab3-4048-e658-b3d38a3f56c3"
      },
      "execution_count": 5,
      "outputs": [
        {
          "output_type": "stream",
          "name": "stdout",
          "text": [
            "   A  B   C   D\n",
            "0  1  3   9  13\n",
            "1  2  4  10  14\n",
            "2  5  7  11  15\n",
            "3  6  8  12  16\n"
          ]
        }
      ]
    },
    {
      "cell_type": "markdown",
      "source": [
        "** Task 6: Tuples and Sets**"
      ],
      "metadata": {
        "id": "JCd1wI2HUAcC"
      }
    },
    {
      "cell_type": "code",
      "source": [
        "fruits = ('apple', 'banana', 'cherry')\n",
        "numbers = {1, 2, 3, 4, 5}\n",
        "\n",
        "# Try to add elements\n",
        "try:\n",
        "    fruits.append('orange')  # Error: tuples are immutable\n",
        "except AttributeError as e:\n",
        "    print(f\"Tuple error: {e}\")\n",
        "\n",
        "numbers.add(6)\n",
        "print(numbers)\n"
      ],
      "metadata": {
        "colab": {
          "base_uri": "https://localhost:8080/",
          "height": 0
        },
        "id": "LwFSIjh2UEsC",
        "outputId": "81bcacfa-4c38-4d35-d716-0ca566072a3a"
      },
      "execution_count": 6,
      "outputs": [
        {
          "output_type": "stream",
          "name": "stdout",
          "text": [
            "Tuple error: 'tuple' object has no attribute 'append'\n",
            "{1, 2, 3, 4, 5, 6}\n"
          ]
        }
      ]
    },
    {
      "cell_type": "markdown",
      "source": [
        "**Task 7: Dictionaries**"
      ],
      "metadata": {
        "id": "tQzb9Kh8UJXq"
      }
    },
    {
      "cell_type": "code",
      "source": [
        "scores = {'Aisha': 85, 'Zaid': 90, 'Sara': 78}\n",
        "scores['Zaid'] = 95  # Update score\n",
        "scores['Omar'] = 88  # Add new student\n",
        "print(scores)\n"
      ],
      "metadata": {
        "colab": {
          "base_uri": "https://localhost:8080/",
          "height": 0
        },
        "id": "e_SoaDBDUKvF",
        "outputId": "4a7785b0-79d2-41de-822a-7261504c5d37"
      },
      "execution_count": 7,
      "outputs": [
        {
          "output_type": "stream",
          "name": "stdout",
          "text": [
            "{'Aisha': 85, 'Zaid': 95, 'Sara': 78, 'Omar': 88}\n"
          ]
        }
      ]
    },
    {
      "cell_type": "markdown",
      "source": [
        "** Task 8: Functions and Lambda**"
      ],
      "metadata": {
        "id": "rtJs0OokUNRJ"
      }
    },
    {
      "cell_type": "code",
      "source": [
        "def square(x):\n",
        "    return x * x\n",
        "\n",
        "square_lambda = lambda x: x * x\n",
        "\n",
        "print(square(3), square_lambda(4))\n"
      ],
      "metadata": {
        "colab": {
          "base_uri": "https://localhost:8080/",
          "height": 0
        },
        "id": "EBwmn3LLUQM9",
        "outputId": "028b8297-7027-436e-8809-fcb5234340ff"
      },
      "execution_count": 8,
      "outputs": [
        {
          "output_type": "stream",
          "name": "stdout",
          "text": [
            "9 16\n"
          ]
        }
      ]
    },
    {
      "cell_type": "markdown",
      "source": [
        "** Task 9: Iterators and Generators**"
      ],
      "metadata": {
        "id": "_1HvqkVHUScm"
      }
    },
    {
      "cell_type": "code",
      "source": [
        "# Iterator class\n",
        "class EvenNumbers:\n",
        "    def __init__(self, max_count=5):\n",
        "        self.count = 0\n",
        "        self.num = 0\n",
        "        self.max_count = max_count\n",
        "\n",
        "    def __iter__(self):\n",
        "        return self\n",
        "\n",
        "    def __next__(self):\n",
        "        if self.count >= self.max_count:\n",
        "            raise StopIteration\n",
        "        self.num += 2\n",
        "        self.count += 1\n",
        "        return self.num\n",
        "\n",
        "for even in EvenNumbers():\n",
        "    print(even, end=\" \")\n",
        "\n",
        "print()\n",
        "\n",
        "# Generator function\n",
        "def even_gen(n=5):\n",
        "    num = 2\n",
        "    for _ in range(n):\n",
        "        yield num\n",
        "        num += 2\n",
        "\n",
        "for even in even_gen():\n",
        "    print(even, end=\" \")\n"
      ],
      "metadata": {
        "colab": {
          "base_uri": "https://localhost:8080/",
          "height": 0
        },
        "id": "HUZe8KDiUVCX",
        "outputId": "508dbf00-a5f6-4a52-d198-aefeb6af0f6f"
      },
      "execution_count": 9,
      "outputs": [
        {
          "output_type": "stream",
          "name": "stdout",
          "text": [
            "2 4 6 8 10 \n",
            "2 4 6 8 10 "
          ]
        }
      ]
    },
    {
      "cell_type": "markdown",
      "source": [
        "**Task 10: Map, Reduce, and Filter**"
      ],
      "metadata": {
        "id": "EWONro_hUX4e"
      }
    },
    {
      "cell_type": "code",
      "source": [
        "numbers = [1, 2, 3, 4, 5]\n",
        "\n",
        "squared = list(map(lambda x: x ** 2, numbers))\n",
        "product = reduce(lambda x, y: x * y, numbers)\n",
        "evens = list(filter(lambda x: x % 2 == 0, numbers))\n",
        "\n",
        "print(\"Squared:\", squared)\n",
        "print(\"Product:\", product)\n",
        "print(\"Evens:\", evens)\n"
      ],
      "metadata": {
        "colab": {
          "base_uri": "https://localhost:8080/",
          "height": 0
        },
        "id": "EQIoROg8Ua99",
        "outputId": "8e8faa37-474b-475e-af66-4d9f1383a9ac"
      },
      "execution_count": 10,
      "outputs": [
        {
          "output_type": "stream",
          "name": "stdout",
          "text": [
            "Squared: [1, 4, 9, 16, 25]\n",
            "Product: 120\n",
            "Evens: [2, 4]\n"
          ]
        }
      ]
    },
    {
      "cell_type": "markdown",
      "source": [
        "**Task 11: Object-Oriented Programming**"
      ],
      "metadata": {
        "id": "kAdkJDZXUd03"
      }
    },
    {
      "cell_type": "code",
      "source": [
        "class Rectangle:\n",
        "    def __init__(self, length, width):\n",
        "        self.length = length\n",
        "        self.width = width\n",
        "\n",
        "    def area(self):\n",
        "        return self.length * self.width\n",
        "\n",
        "    def perimeter(self):\n",
        "        return 2 * (self.length + self.width)\n",
        "\n",
        "r1 = Rectangle(4, 5)\n",
        "r2 = Rectangle(6, 3)\n",
        "\n",
        "print(f\"Area r1: {r1.area()}, Perimeter r1: {r1.perimeter()}\")\n",
        "print(f\"Area r2: {r2.area()}, Perimeter r2: {r2.perimeter()}\")\n"
      ],
      "metadata": {
        "colab": {
          "base_uri": "https://localhost:8080/",
          "height": 0
        },
        "id": "GhOc1jwLUgwV",
        "outputId": "da34e163-8218-4edb-d810-d98d37b38de5"
      },
      "execution_count": 11,
      "outputs": [
        {
          "output_type": "stream",
          "name": "stdout",
          "text": [
            "Area r1: 20, Perimeter r1: 18\n",
            "Area r2: 18, Perimeter r2: 18\n"
          ]
        }
      ]
    },
    {
      "cell_type": "markdown",
      "source": [
        "**Task 12: Pandas Data Analysis**"
      ],
      "metadata": {
        "id": "iHm77mK8UlUZ"
      }
    },
    {
      "cell_type": "code",
      "source": [
        "df_employees = pd.DataFrame({\n",
        "    'Name': ['John', 'Jane', 'Bob', 'Alice', 'Charlie'],\n",
        "    'Department': ['IT', 'HR', 'IT', 'Finance', 'HR'],\n",
        "    'Salary': [55000, 65000, 70000, 60000, 58000]\n",
        "})\n",
        "\n",
        "# Average salary by department\n",
        "print(df_employees.groupby('Department')['Salary'].mean())\n",
        "\n",
        "# Employees with salary > 60000\n",
        "print(df_employees[df_employees['Salary'] > 60000]['Name'])\n",
        "\n",
        "# Add Bonus column\n",
        "df_employees['Bonus'] = df_employees['Salary'] * 0.10\n",
        "print(df_employees)\n"
      ],
      "metadata": {
        "colab": {
          "base_uri": "https://localhost:8080/",
          "height": 0
        },
        "id": "AtCvGPHkUmww",
        "outputId": "9204af98-f4ad-4f47-ceda-85c63851fd1b"
      },
      "execution_count": 12,
      "outputs": [
        {
          "output_type": "stream",
          "name": "stdout",
          "text": [
            "Department\n",
            "Finance    60000.0\n",
            "HR         61500.0\n",
            "IT         62500.0\n",
            "Name: Salary, dtype: float64\n",
            "1    Jane\n",
            "2     Bob\n",
            "Name: Name, dtype: object\n",
            "      Name Department  Salary   Bonus\n",
            "0     John         IT   55000  5500.0\n",
            "1     Jane         HR   65000  6500.0\n",
            "2      Bob         IT   70000  7000.0\n",
            "3    Alice    Finance   60000  6000.0\n",
            "4  Charlie         HR   58000  5800.0\n"
          ]
        }
      ]
    }
  ]
}